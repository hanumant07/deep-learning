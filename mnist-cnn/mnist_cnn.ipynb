{
 "cells": [
  {
   "cell_type": "markdown",
   "metadata": {},
   "source": [
    "## MNIST CNN"
   ]
  },
  {
   "cell_type": "code",
   "execution_count": 1,
   "metadata": {},
   "outputs": [
    {
     "name": "stderr",
     "output_type": "stream",
     "text": [
      "Using TensorFlow backend.\n"
     ]
    }
   ],
   "source": [
    "import numpy\n",
    "import matplotlib.pyplot as plt\n",
    "from keras.datasets import mnist\n",
    "from keras.models import Sequential\n",
    "from keras.layers import Dense\n",
    "from keras.layers import Dropout\n",
    "from keras.layers import Flatten\n",
    "from keras.layers.convolutional import Conv2D\n",
    "from keras.layers.convolutional import MaxPooling2D\n",
    "from keras.utils import np_utils\n",
    "from keras import backend as K\n",
    "K.set_image_dim_ordering('th')\n",
    "\n",
    "\n",
    "SEED = 7\n",
    "numpy.random.seed(SEED)\n",
    "\n",
    "\n"
   ]
  },
  {
   "cell_type": "code",
   "execution_count": 2,
   "metadata": {},
   "outputs": [],
   "source": [
    "# Rescale the features, one hot encode the labels\n",
    "# Split into train and test\n",
    "def fetch_preprocess_data():\n",
    "    (X_train, Y_train), (X_test, Y_test) = mnist.load_data()\n",
    "\n",
    "    # reshape to channel x height x width\n",
    "    X_train = X_train.reshape(X_train.shape[0], 1, 28, 28).astype('float32')\n",
    "    X_test = X_test.reshape(X_test.shape[0], 1, 28, 28).astype('float32')\n",
    "\n",
    "    # one hot encode output\n",
    "    Y_train = np_utils.to_categorical(Y_train)\n",
    "    Y_test = np_utils.to_categorical(Y_test)\n",
    "\n",
    "    # rescale images\n",
    "    X_train = X_train / 255\n",
    "    X_test = X_test / 255\n",
    "    return (X_train, Y_train), (X_test, Y_test)\n",
    "\n",
    "\n",
    "\n",
    "\n"
   ]
  },
  {
   "cell_type": "code",
   "execution_count": 11,
   "metadata": {},
   "outputs": [],
   "source": [
    "# Create the CNN Model\n",
    "def create_model(input_dim, output_dim):\n",
    "    model = Sequential()\n",
    "    model.add(Conv2D(30, (5, 5), input_shape=input_dim, activation='relu'))\n",
    "    model.add(MaxPooling2D(pool_size=(2, 2)))\n",
    "    model.add(Conv2D(15, (3, 3), activation='relu'))\n",
    "    model.add(MaxPooling2D(pool_size=(2, 2)))\n",
    "    model.add(Dropout(0.2))\n",
    "    model.add(Flatten())\n",
    "    model.add(Dense(128, activation='relu'))\n",
    "    model.add(Dense(50, activation='relu'))\n",
    "    model.add(Dense(output_dim, activation='softmax'))\n",
    "    model.compile(loss='categorical_crossentropy', optimizer='adam',\n",
    "                  metrics=['accuracy'])\n",
    "    model.summary()\n",
    "    return model\n",
    "\n",
    "\n"
   ]
  },
  {
   "cell_type": "code",
   "execution_count": 35,
   "metadata": {},
   "outputs": [],
   "source": [
    "# Train and evaluate model\n",
    "def train_and_evaluate_model(model, X_train, Y_train, X_test, Y_test,\n",
    "                             epochs, batch_size):\n",
    "\n",
    "    history = model.fit(X_train, Y_train, validation_data=(X_test, Y_test),\n",
    "              epochs=epochs, batch_size=batch_size, verbose=2)\n",
    "\n",
    "    scores = model.evaluate(X_test, Y_test, verbose=0)\n",
    "    accuracy = scores[1]*100.00\n",
    "    print(\"CNN Accuracy: %.2f%%\" % accuracy)\n",
    "    return history\n"
   ]
  },
  {
   "cell_type": "code",
   "execution_count": 36,
   "metadata": {},
   "outputs": [],
   "source": [
    "# Plot training and validation progress\n",
    "def plot_model_progress(history):\n",
    "    plt.plot(history.history['acc'])\n",
    "    plt.plot(history.history['val_acc'])\n",
    "    plt.title('model accuracy')\n",
    "    plt.xlabel('epoch')\n",
    "    plt.ylabel('accuracy')\n",
    "    plt.legend(['train', 'test'], loc='upper right')\n",
    "    plt.show()\n"
   ]
  },
  {
   "cell_type": "code",
   "execution_count": 37,
   "metadata": {},
   "outputs": [
    {
     "name": "stdout",
     "output_type": "stream",
     "text": [
      "_________________________________________________________________\n",
      "Layer (type)                 Output Shape              Param #   \n",
      "=================================================================\n",
      "conv2d_21 (Conv2D)           (None, 30, 24, 24)        780       \n",
      "_________________________________________________________________\n",
      "max_pooling2d_21 (MaxPooling (None, 30, 12, 12)        0         \n",
      "_________________________________________________________________\n",
      "conv2d_22 (Conv2D)           (None, 15, 10, 10)        4065      \n",
      "_________________________________________________________________\n",
      "max_pooling2d_22 (MaxPooling (None, 15, 5, 5)          0         \n",
      "_________________________________________________________________\n",
      "dropout_11 (Dropout)         (None, 15, 5, 5)          0         \n",
      "_________________________________________________________________\n",
      "flatten_11 (Flatten)         (None, 375)               0         \n",
      "_________________________________________________________________\n",
      "dense_31 (Dense)             (None, 128)               48128     \n",
      "_________________________________________________________________\n",
      "dense_32 (Dense)             (None, 50)                6450      \n",
      "_________________________________________________________________\n",
      "dense_33 (Dense)             (None, 10)                510       \n",
      "=================================================================\n",
      "Total params: 59,933.0\n",
      "Trainable params: 59,933.0\n",
      "Non-trainable params: 0.0\n",
      "_________________________________________________________________\n",
      "Train on 60000 samples, validate on 10000 samples\n",
      "Epoch 1/20\n",
      "12s - loss: 0.2799 - acc: 0.9128 - val_loss: 0.0633 - val_acc: 0.9791\n",
      "Epoch 2/20\n",
      "12s - loss: 0.0816 - acc: 0.9747 - val_loss: 0.0450 - val_acc: 0.9862\n",
      "Epoch 3/20\n",
      "12s - loss: 0.0599 - acc: 0.9810 - val_loss: 0.0371 - val_acc: 0.9880\n",
      "Epoch 4/20\n",
      "12s - loss: 0.0499 - acc: 0.9847 - val_loss: 0.0332 - val_acc: 0.9896\n",
      "Epoch 5/20\n",
      "12s - loss: 0.0435 - acc: 0.9861 - val_loss: 0.0334 - val_acc: 0.9899\n",
      "Epoch 6/20\n",
      "12s - loss: 0.0371 - acc: 0.9879 - val_loss: 0.0305 - val_acc: 0.9905\n",
      "Epoch 7/20\n",
      "12s - loss: 0.0344 - acc: 0.9892 - val_loss: 0.0243 - val_acc: 0.9916\n",
      "Epoch 8/20\n",
      "12s - loss: 0.0308 - acc: 0.9902 - val_loss: 0.0283 - val_acc: 0.9909\n",
      "Epoch 9/20\n",
      "12s - loss: 0.0283 - acc: 0.9909 - val_loss: 0.0268 - val_acc: 0.9912\n",
      "Epoch 10/20\n",
      "12s - loss: 0.0271 - acc: 0.9906 - val_loss: 0.0305 - val_acc: 0.9901\n",
      "Epoch 11/20\n",
      "12s - loss: 0.0234 - acc: 0.9922 - val_loss: 0.0272 - val_acc: 0.9915\n",
      "Epoch 12/20\n",
      "12s - loss: 0.0217 - acc: 0.9927 - val_loss: 0.0262 - val_acc: 0.9923\n",
      "Epoch 13/20\n",
      "12s - loss: 0.0217 - acc: 0.9926 - val_loss: 0.0267 - val_acc: 0.9922\n",
      "Epoch 14/20\n",
      "12s - loss: 0.0205 - acc: 0.9932 - val_loss: 0.0260 - val_acc: 0.9912\n",
      "Epoch 15/20\n",
      "12s - loss: 0.0183 - acc: 0.9944 - val_loss: 0.0291 - val_acc: 0.9924\n",
      "Epoch 16/20\n",
      "12s - loss: 0.0167 - acc: 0.9946 - val_loss: 0.0290 - val_acc: 0.9914\n",
      "Epoch 17/20\n",
      "12s - loss: 0.0169 - acc: 0.9943 - val_loss: 0.0313 - val_acc: 0.9913\n",
      "Epoch 18/20\n",
      "12s - loss: 0.0163 - acc: 0.9946 - val_loss: 0.0273 - val_acc: 0.9914\n",
      "Epoch 19/20\n",
      "12s - loss: 0.0168 - acc: 0.9944 - val_loss: 0.0254 - val_acc: 0.9924\n",
      "Epoch 20/20\n",
      "12s - loss: 0.0138 - acc: 0.9955 - val_loss: 0.0288 - val_acc: 0.9916\n",
      "CNN Accuracy: 99.16%\n"
     ]
    },
    {
     "data": {
      "image/png": "[encoded data removed]",
      "text/plain": [
       "<matplotlib.figure.Figure at 0x7f902c703860>"
      ]
     },
     "metadata": {},
     "output_type": "display_data"
    }
   ],
   "source": [
    "# Get Data\n",
    "(X_train, Y_train), (X_test, Y_test) = fetch_preprocess_data()\n",
    "\n",
    "# Create Model\n",
    "model = create_model((1, 28, 28), 10)\n",
    "\n",
    "# Train and evaluate. Obtain history\n",
    "history = train_and_evaluate_model(model, X_train, Y_train, X_test, Y_test,\n",
    "                                  20, 100)\n",
    "\n",
    "# Plt progress\n",
    "plot_model_progress(history)\n",
    "\n",
    "\n",
    "\n"
   ]
  },
  {
   "cell_type": "code",
   "execution_count": null,
   "metadata": {},
   "outputs": [],
   "source": []
  }
 ],
 "metadata": {
  "kernelspec": {
   "display_name": "Python 3",
   "language": "python",
   "name": "python3"
  },
  "language_info": {
   "codemirror_mode": {
    "name": "ipython",
    "version": 3
   },
   "file_extension": ".py",
   "mimetype": "text/x-python",
   "name": "python",
   "nbconvert_exporter": "python",
   "pygments_lexer": "ipython3",
   "version": "3.5.2"
  }
 },
 "nbformat": 4,
 "nbformat_minor": 2
}
