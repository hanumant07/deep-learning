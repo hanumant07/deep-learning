{
 "cells": [
  {
   "cell_type": "markdown",
   "metadata": {},
   "source": [
    "# Sentiment Analysis with an RNN\n",
    "\n",
    "In this notebook, you'll implement a recurrent neural network that performs sentiment analysis. Using an RNN rather than a feedfoward network is more accurate since we can include information about the *sequence* of words. Here we'll use a dataset of movie reviews, accompanied by labels.\n",
    "\n",
    "The architecture for this network is shown below.\n",
    "\n",
    "<img src=\"assets/network_diagram.png\" width=400px>\n",
    "\n",
    "Here, we'll pass in words to an embedding layer. We need an embedding layer because we have tens of thousands of words, so we'll need a more efficient representation for our input data than one-hot encoded vectors. You should have seen this before from the word2vec lesson. You can actually train up an embedding with word2vec and use it here. But it's good enough to just have an embedding layer and let the network learn the embedding table on it's own.\n",
    "\n",
    "From the embedding layer, the new representations will be passed to LSTM cells. These will add recurrent connections to the network so we can include information about the sequence of words in the data. Finally, the LSTM cells will go to a sigmoid output layer here. We're using the sigmoid because we're trying to predict if this text has positive or negative sentiment. The output layer will just be a single unit then, with a sigmoid activation function.\n",
    "\n",
    "We don't care about the sigmoid outputs except for the very last one, we can ignore the rest. We'll calculate the cost from the output of the last step and the training label."
   ]
  },
  {
   "cell_type": "code",
   "execution_count": 1,
   "metadata": {},
   "outputs": [],
   "source": [
    "import numpy as np\n",
    "import tensorflow as tf"
   ]
  },
  {
   "cell_type": "code",
   "execution_count": 2,
   "metadata": {},
   "outputs": [],
   "source": [
    "with open('../sentiment-network/reviews.txt', 'r') as f:\n",
    "    reviews = f.read()\n",
    "with open('../sentiment-network/labels.txt', 'r') as f:\n",
    "    labels = f.read()"
   ]
  },
  {
   "cell_type": "code",
   "execution_count": 3,
   "metadata": {},
   "outputs": [
    {
     "data": {
      "text/plain": [
       "'bromwell high is a cartoon comedy . it ran at the same time as some other programs about school life  such as  teachers  . my   years in the teaching profession lead me to believe that bromwell high  s satire is much closer to reality than is  teachers  . the scramble to survive financially  the insightful students who can see right through their pathetic teachers  pomp  the pettiness of the whole situation  all remind me of the schools i knew and their students . when i saw the episode in which a student repeatedly tried to burn down the school  i immediately recalled . . . . . . . . . at . . . . . . . . . . high . a classic line inspector i  m here to sack one of your teachers . student welcome to bromwell high . i expect that many adults of my age think that bromwell high is far fetched . what a pity that it isn  t   \\nstory of a man who has unnatural feelings for a pig . starts out with a opening scene that is a terrific example of absurd comedy . a formal orchestra audience is turned into an insane  violent mob by the crazy chantings of it  s singers . unfortunately it stays absurd the whole time with no general narrative eventually making it just too off putting . even those from the era should be turned off . the cryptic dialogue would make shakespeare seem easy to a third grader . on a technical level it  s better than you might think with some good cinematography by future great vilmos zsigmond . future stars sally kirkland and frederic forrest can be seen briefly .  \\nhomelessness  or houselessness as george carlin stated  has been an issue for years but never a plan to help those on the street that were once considered human who did everything from going to school  work  or vote for the matter . most people think of the homeless as just a lost cause while worrying about things such as racism  the war on iraq  pressuring kids to succeed  technology  the elections  inflation  or worrying if they  ll be next to end up on the streets .  br    br   but what if y'"
      ]
     },
     "execution_count": 3,
     "metadata": {},
     "output_type": "execute_result"
    }
   ],
   "source": [
    "reviews[:2000]"
   ]
  },
  {
   "cell_type": "markdown",
   "metadata": {},
   "source": [
    "## Data preprocessing\n",
    "\n",
    "The first step when building a neural network model is getting your data into the proper form to feed into the network. Since we're using embedding layers, we'll need to encode each word with an integer. We'll also want to clean it up a bit.\n",
    "\n",
    "You can see an example of the reviews data above. We'll want to get rid of those periods. Also, you might notice that the reviews are delimited with newlines `\\n`. To deal with those, I'm going to split the text into each review using `\\n` as the delimiter. Then I can combined all the reviews back together into one big string.\n",
    "\n",
    "First, let's remove all punctuation. Then get all the text without the newlines and split it into individual words."
   ]
  },
  {
   "cell_type": "code",
   "execution_count": 4,
   "metadata": {},
   "outputs": [],
   "source": [
    "from string import punctuation\n",
    "all_text = ''.join([c for c in reviews if c not in punctuation])\n",
    "reviews = all_text.split('\\n')\n",
    "\n",
    "all_text = ' '.join(reviews)\n",
    "words = all_text.split()"
   ]
  },
  {
   "cell_type": "code",
   "execution_count": 5,
   "metadata": {},
   "outputs": [
    {
     "data": {
      "text/plain": [
       "'bromwell high is a cartoon comedy  it ran at the same time as some other programs about school life  such as  teachers   my   years in the teaching profession lead me to believe that bromwell high  s satire is much closer to reality than is  teachers   the scramble to survive financially  the insightful students who can see right through their pathetic teachers  pomp  the pettiness of the whole situation  all remind me of the schools i knew and their students  when i saw the episode in which a student repeatedly tried to burn down the school  i immediately recalled          at           high  a classic line inspector i  m here to sack one of your teachers  student welcome to bromwell high  i expect that many adults of my age think that bromwell high is far fetched  what a pity that it isn  t    story of a man who has unnatural feelings for a pig  starts out with a opening scene that is a terrific example of absurd comedy  a formal orchestra audience is turned into an insane  violent mob by the crazy chantings of it  s singers  unfortunately it stays absurd the whole time with no general narrative eventually making it just too off putting  even those from the era should be turned off  the cryptic dialogue would make shakespeare seem easy to a third grader  on a technical level it  s better than you might think with some good cinematography by future great vilmos zsigmond  future stars sally kirkland and frederic forrest can be seen briefly    homelessness  or houselessness as george carlin stated  has been an issue for years but never a plan to help those on the street that were once considered human who did everything from going to school  work  or vote for the matter  most people think of the homeless as just a lost cause while worrying about things such as racism  the war on iraq  pressuring kids to succeed  technology  the elections  inflation  or worrying if they  ll be next to end up on the streets   br    br   but what if you were given a bet to live on the st'"
      ]
     },
     "execution_count": 5,
     "metadata": {},
     "output_type": "execute_result"
    }
   ],
   "source": [
    "all_text[:2000]"
   ]
  },
  {
   "cell_type": "code",
   "execution_count": 6,
   "metadata": {},
   "outputs": [
    {
     "data": {
      "text/plain": [
       "['bromwell',\n",
       " 'high',\n",
       " 'is',\n",
       " 'a',\n",
       " 'cartoon',\n",
       " 'comedy',\n",
       " 'it',\n",
       " 'ran',\n",
       " 'at',\n",
       " 'the',\n",
       " 'same',\n",
       " 'time',\n",
       " 'as',\n",
       " 'some',\n",
       " 'other',\n",
       " 'programs',\n",
       " 'about',\n",
       " 'school',\n",
       " 'life',\n",
       " 'such',\n",
       " 'as',\n",
       " 'teachers',\n",
       " 'my',\n",
       " 'years',\n",
       " 'in',\n",
       " 'the',\n",
       " 'teaching',\n",
       " 'profession',\n",
       " 'lead',\n",
       " 'me',\n",
       " 'to',\n",
       " 'believe',\n",
       " 'that',\n",
       " 'bromwell',\n",
       " 'high',\n",
       " 's',\n",
       " 'satire',\n",
       " 'is',\n",
       " 'much',\n",
       " 'closer',\n",
       " 'to',\n",
       " 'reality',\n",
       " 'than',\n",
       " 'is',\n",
       " 'teachers',\n",
       " 'the',\n",
       " 'scramble',\n",
       " 'to',\n",
       " 'survive',\n",
       " 'financially',\n",
       " 'the',\n",
       " 'insightful',\n",
       " 'students',\n",
       " 'who',\n",
       " 'can',\n",
       " 'see',\n",
       " 'right',\n",
       " 'through',\n",
       " 'their',\n",
       " 'pathetic',\n",
       " 'teachers',\n",
       " 'pomp',\n",
       " 'the',\n",
       " 'pettiness',\n",
       " 'of',\n",
       " 'the',\n",
       " 'whole',\n",
       " 'situation',\n",
       " 'all',\n",
       " 'remind',\n",
       " 'me',\n",
       " 'of',\n",
       " 'the',\n",
       " 'schools',\n",
       " 'i',\n",
       " 'knew',\n",
       " 'and',\n",
       " 'their',\n",
       " 'students',\n",
       " 'when',\n",
       " 'i',\n",
       " 'saw',\n",
       " 'the',\n",
       " 'episode',\n",
       " 'in',\n",
       " 'which',\n",
       " 'a',\n",
       " 'student',\n",
       " 'repeatedly',\n",
       " 'tried',\n",
       " 'to',\n",
       " 'burn',\n",
       " 'down',\n",
       " 'the',\n",
       " 'school',\n",
       " 'i',\n",
       " 'immediately',\n",
       " 'recalled',\n",
       " 'at',\n",
       " 'high']"
      ]
     },
     "execution_count": 6,
     "metadata": {},
     "output_type": "execute_result"
    }
   ],
   "source": [
    "words[:100]"
   ]
  },
  {
   "cell_type": "markdown",
   "metadata": {},
   "source": [
    "### Encoding the words\n",
    "\n",
    "The embedding lookup requires that we pass in integers to our network. The easiest way to do this is to create dictionaries that map the words in the vocabulary to integers. Then we can convert each of our reviews into integers so they can be passed into the network.\n",
    "\n",
    "> **Exercise:** Now you're going to encode the words with integers. Build a dictionary that maps words to integers. Later we're going to pad our input vectors with zeros, so make sure the integers **start at 1, not 0**.\n",
    "> Also, convert the reviews to integers and store the reviews in a new list called `reviews_ints`. "
   ]
  },
  {
   "cell_type": "code",
   "execution_count": 7,
   "metadata": {},
   "outputs": [
    {
     "name": "stdout",
     "output_type": "stream",
     "text": [
      "safans index =  2\n",
      "fukuky index =  4\n",
      "mailroom index =  5\n",
      "deriviative index =  7\n",
      "chainsaws index =  35502\n",
      "unshakeable index =  8\n",
      "sheeze index =  49367\n",
      "refusal index =  9\n",
      "ghod index =  10\n",
      "gum index =  55415\n",
      "word_set length  74072\n",
      "vocab_to_int length  74072\n",
      "review_ints len  25002\n",
      "reviews lens 25001\n",
      "review  1 len  0\n",
      "review  2 len  140\n",
      "review  3 len  114\n",
      "review  4 len  447\n",
      "review  5 len  786\n",
      "review  6 len  150\n",
      "review  7 len  146\n",
      "review  8 len  124\n",
      "review  9 len  153\n",
      "review  10 len  121\n",
      "review  11 len  401\n",
      "review  12 len  184\n",
      "review  13 len  104\n",
      "review  14 len  112\n",
      "review  15 len  331\n",
      "review  16 len  346\n",
      "review  17 len  159\n",
      "review  18 len  451\n",
      "review  19 len  68\n",
      "review  20 len  330\n"
     ]
    }
   ],
   "source": [
    "# Create your dictionary that maps vocab words to integers here\n",
    "word_set = set(word for word in words)\n",
    "vocab_to_int = {word: count for count, word in enumerate(word_set, 1)}\n",
    "count = 0\n",
    "for word in vocab_to_int.keys():\n",
    "    if (count == 10):\n",
    "        break\n",
    "    print(word,\"index = \", vocab_to_int[word])\n",
    "    count += 1\n",
    "\n",
    "print(\"word_set length \", len(word_set))\n",
    "print(\"vocab_to_int length \", len(vocab_to_int))\n",
    "# Convert the reviews to integers, same shape as reviews list, but with integers\n",
    "reviews_ints = [[]]\n",
    "for review in reviews:\n",
    "    curr_review_to_int = []\n",
    "    for word in review.split():\n",
    "        #if word in vocab_to_int.keys():\n",
    "        curr_review_to_int.append(vocab_to_int[word])\n",
    "    reviews_ints.append(curr_review_to_int)\n",
    "\n",
    "print(\"review_ints len \", len(reviews_ints))\n",
    "print(\"reviews lens\", len(reviews))\n",
    "count = 0\n",
    "for review in reviews_ints:\n",
    "    count += 1\n",
    "    print (\"review \", count, \"len \", len(review))\n",
    "    if (count == 20):\n",
    "        break"
   ]
  },
  {
   "cell_type": "markdown",
   "metadata": {},
   "source": [
    "### Encoding the labels\n",
    "\n",
    "Our labels are \"positive\" or \"negative\". To use these labels in our network, we need to convert them to 0 and 1.\n",
    "\n",
    "> **Exercise:** Convert labels from `positive` and `negative` to 1 and 0, respectively."
   ]
  },
  {
   "cell_type": "code",
   "execution_count": 8,
   "metadata": {},
   "outputs": [],
   "source": [
    "# Convert labels to 1s and 0s for 'positive' and 'negative'\n",
    "\n",
    "labels = labels.split('\\n')\n",
    "labels = np.array([1 if each == 'positive' else 0 for each in labels])\n"
   ]
  },
  {
   "cell_type": "markdown",
   "metadata": {},
   "source": [
    "If you built `labels` correctly, you should see the next output."
   ]
  },
  {
   "cell_type": "code",
   "execution_count": 9,
   "metadata": {},
   "outputs": [
    {
     "name": "stdout",
     "output_type": "stream",
     "text": [
      "Zero-length reviews: 2\n",
      "Maximum review length: 2514\n"
     ]
    }
   ],
   "source": [
    "from collections import Counter\n",
    "review_lens = Counter([len(x) for x in reviews_ints])\n",
    "print(\"Zero-length reviews: {}\".format(review_lens[0]))\n",
    "print(\"Maximum review length: {}\".format(max(review_lens)))"
   ]
  },
  {
   "cell_type": "markdown",
   "metadata": {},
   "source": [
    "Okay, a couple issues here. We seem to have one review with zero length. And, the maximum review length is way too many steps for our RNN. Let's truncate to 200 steps. For reviews shorter than 200, we'll pad with 0s. For reviews longer than 200, we can truncate them to the first 200 characters.\n",
    "\n",
    "> **Exercise:** First, remove the review with zero length from the `reviews_ints` list."
   ]
  },
  {
   "cell_type": "code",
   "execution_count": 10,
   "metadata": {},
   "outputs": [
    {
     "name": "stdout",
     "output_type": "stream",
     "text": [
      "25000\n"
     ]
    }
   ],
   "source": [
    "# Filter out that review with 0 length\n",
    "reviews_ints = [review for review in reviews_ints if len(review) != 0]\n",
    "print(len(reviews_ints))"
   ]
  },
  {
   "cell_type": "markdown",
   "metadata": {},
   "source": [
    "> **Exercise:** Now, create an array `features` that contains the data we'll pass to the network. The data should come from `review_ints`, since we want to feed integers to the network. Each row should be 200 elements long. For reviews shorter than 200 words, left pad with 0s. That is, if the review is `['best', 'movie', 'ever']`, `[117, 18, 128]` as integers, the row will look like `[0, 0, 0, ..., 0, 117, 18, 128]`. For reviews longer than 200, use on the first 200 words as the feature vector.\n",
    "\n",
    "This isn't trivial and there are a bunch of ways to do this. But, if you're going to be building your own deep learning networks, you're going to have to get used to preparing your data.\n",
    "\n"
   ]
  },
  {
   "cell_type": "code",
   "execution_count": 11,
   "metadata": {},
   "outputs": [],
   "source": [
    "seq_len = 200\n",
    "features = np.zeros((len(reviews_ints), seq_len), dtype=int)\n",
    "for i, row in enumerate(reviews_ints):\n",
    "    features[i, -len(row):] = np.array(row)[:seq_len]"
   ]
  },
  {
   "cell_type": "markdown",
   "metadata": {},
   "source": [
    "If you build features correctly, it should look like that cell output below."
   ]
  },
  {
   "cell_type": "code",
   "execution_count": 12,
   "metadata": {},
   "outputs": [
    {
     "data": {
      "text/plain": [
       "array([[    0,     0,     0,     0,     0,     0,     0,     0,     0,\n",
       "            0,     0,     0,     0,     0,     0,     0,     0,     0,\n",
       "            0,     0,     0,     0,     0,     0,     0,     0,     0,\n",
       "            0,     0,     0,     0,     0,     0,     0,     0,     0,\n",
       "            0,     0,     0,     0,     0,     0,     0,     0,     0,\n",
       "            0,     0,     0,     0,     0,     0,     0,     0,     0,\n",
       "            0,     0,     0,     0,     0,     0, 67221, 20453, 23210,\n",
       "        55255, 57680,  4500, 22284, 13873,  8002, 10157, 50916, 53609,\n",
       "        11056, 20623, 41828,  6253, 56644,   509, 63136, 48311, 11056,\n",
       "        73422, 30808, 65301, 59365, 10157, 62389, 40505, 34044, 27735,\n",
       "        35912, 66862, 44014, 67221, 20453, 15887, 28820, 23210, 14579,\n",
       "        39967],\n",
       "       [    0,     0,     0,     0,     0,     0,     0,     0,     0,\n",
       "            0,     0,     0,     0,     0,     0,     0,     0,     0,\n",
       "            0,     0,     0,     0,     0,     0,     0,     0,     0,\n",
       "            0,     0,     0,     0,     0,     0,     0,     0,     0,\n",
       "            0,     0,     0,     0,     0,     0,     0,     0,     0,\n",
       "            0,     0,     0,     0,     0,     0,     0,     0,     0,\n",
       "            0,     0,     0,     0,     0,     0,     0,     0,     0,\n",
       "            0,     0,     0,     0,     0,     0,     0,     0,     0,\n",
       "            0,     0,     0,     0,     0,     0,     0,     0,     0,\n",
       "            0,     0,     0,     0,     0, 49420, 67377, 55255, 70897,\n",
       "        22998, 66221, 38591, 36429, 71716, 55255,   612, 21016, 23118,\n",
       "        37668],\n",
       "       [39620,  2714, 39476, 11056, 47558, 13897, 62224, 66221, 30057,\n",
       "         1605, 53193, 71716, 65301, 18648, 14595, 55255,  9033, 35912,\n",
       "        71911, 17345, 32092, 10157, 62873, 44014, 52622, 33811, 43408,\n",
       "         1286, 22998, 68608, 28834, 18766, 15649, 35912,   509, 38094,\n",
       "         2714,  9329, 71716, 10157, 18268, 19118, 18679, 56670, 67377,\n",
       "        10157, 21252, 11056, 50704, 55255, 54325, 26502, 70153, 41052,\n",
       "        56644,  8728, 48311, 11056, 67659, 10157, 68530, 32092, 37577,\n",
       "        69951, 37302, 35912, 33565, 69639, 10157, 17633, 13464,  2714,\n",
       "        41052, 50591, 50546, 34559, 40035, 55378, 35912, 27904, 69527,\n",
       "        32092, 10157, 47721, 30239, 30239, 18648, 72983, 50591,  7953,\n",
       "        52622, 38950, 55255, 16965, 35912, 38112, 32092, 10157, 47721,\n",
       "        71716],\n",
       "       [15884, 21016, 11056, 55255,  8297,  7943, 21302, 32542, 23210,\n",
       "        59175, 69527, 37668, 68541, 18141, 48311, 31829, 35912, 40395,\n",
       "         3030, 58627, 14607, 39410, 33722, 22998, 23210,   740, 42514,\n",
       "        55255, 16963, 67377, 59252, 15887, 35912,  5529, 71346, 59365,\n",
       "        21868, 67377, 22284,  1128,  8418, 35912, 10157,  8247, 11056,\n",
       "        55255,  2138, 46344, 32092, 51695, 23210, 14607, 72323, 60914,\n",
       "        73451, 22597, 24728, 47018, 10157, 21302, 74054,  9208, 22819,\n",
       "        11056,  6640, 18648, 40732, 16996, 10157, 32542, 23210, 64610,\n",
       "        18806, 66065, 10157, 50307,  1225,   711,  7501, 34815,  5529,\n",
       "        11582,  1954, 15887, 25157, 52190, 64572, 61109, 62931, 20423,\n",
       "        22998, 13584, 10157, 49063, 24311, 23118, 37668, 23757, 13417,\n",
       "        50546],\n",
       "       [    0,     0,     0,     0,     0,     0,     0,     0,     0,\n",
       "            0,     0,     0,     0,     0,     0,     0,     0,     0,\n",
       "            0,     0,     0,     0,     0,     0,     0,     0,     0,\n",
       "            0,     0,     0,     0,     0,     0,     0,     0,     0,\n",
       "            0,     0,     0,     0,     0,     0,     0,     0,     0,\n",
       "            0,     0,     0,     0,     0,   890, 70868, 62152, 66065,\n",
       "        59005, 18063, 61598,  2986, 49787, 66845, 62133, 36174, 48542,\n",
       "        30573, 48151, 23613, 23427, 57265, 59365,  5015, 33955, 21807,\n",
       "         2554, 35912, 46423, 10157, 17723, 32092, 31264, 23210, 55255,\n",
       "         5712, 11056, 60921, 11056, 65215, 59365, 56315, 26903, 10157,\n",
       "         1530, 32092, 55832, 23210, 46344, 69152, 12456,  1128, 48637,\n",
       "        67377],\n",
       "       [    0,     0,     0,     0,     0,     0,     0,     0,     0,\n",
       "            0,     0,     0,     0,     0,     0,     0,     0,     0,\n",
       "            0,     0,     0,     0,     0,     0,     0,     0,     0,\n",
       "            0,     0,     0,     0,     0,     0,     0,     0,     0,\n",
       "            0,     0,     0,     0,     0,     0,     0,     0,     0,\n",
       "            0,     0,     0,     0,     0,     0,     0,     0,     0,\n",
       "        32418, 62279, 41143, 10620, 36174, 28484, 70504, 52950, 30808,\n",
       "        59806, 32092,  8002, 19461, 36246, 32092, 10157, 59611, 67377,\n",
       "        10157, 73493,  5692, 32418, 44452, 41263, 35912,  3564, 67377,\n",
       "           16, 55815, 37662, 73383, 10157, 53067, 37668, 24728, 73493,\n",
       "        70897, 18967, 10157, 37517, 57265, 29329, 31320, 11056,  1128,\n",
       "         7809],\n",
       "       [    0,     0,     0,     0,     0,     0,     0,     0,     0,\n",
       "            0,     0,     0,     0,     0,     0,     0,     0,     0,\n",
       "            0,     0,     0,     0,     0,     0,     0,     0,     0,\n",
       "            0,     0,     0,     0,     0,     0,     0,     0,     0,\n",
       "            0,     0,     0,     0,     0,     0,     0,     0,     0,\n",
       "            0,     0,     0,     0,     0,     0,     0,     0,     0,\n",
       "            0,     0,     0,     0,     0,     0,     0,     0,     0,\n",
       "            0,     0,     0,     0,     0,     0,     0,     0,     0,\n",
       "            0,     0,     0,     0, 32418, 23210,  1348, 10157, 19118,\n",
       "          345, 62279, 16666, 10157,  6196, 35764, 56000, 17775, 65698,\n",
       "        22284, 17308, 51409,  2710, 55255, 20916,  6245, 67377, 39620,\n",
       "        15301],\n",
       "       [    0,     0,     0,     0,     0,     0,     0,     0,     0,\n",
       "            0,     0,     0,     0,     0,     0,     0,     0,     0,\n",
       "            0,     0,     0,     0,     0,     0,     0,     0,     0,\n",
       "            0,     0,     0,     0,     0,     0,     0,     0,     0,\n",
       "            0,     0,     0,     0,     0,     0,     0,     0,     0,\n",
       "            0,     0, 28682, 38808, 36174, 65236, 32418, 23210, 63099,\n",
       "        35912, 40035,  1605, 36964, 62279, 18648,  7618, 50546, 21253,\n",
       "        48542, 21096, 23118, 59111,  8002, 10157, 14013,  4281, 18679,\n",
       "        38515, 35600, 46151, 23848, 23118, 23613, 51409, 62323, 65711,\n",
       "        10157, 47394, 32291, 23613, 56113, 65765,  3567, 40413, 32418,\n",
       "        49420, 23210, 50634, 40469, 35912, 62323, 10157, 17406, 67377,\n",
       "        55255],\n",
       "       [    0,     0,     0,     0,     0,     0,     0,     0,     0,\n",
       "            0,     0,     0,     0,     0,     0,     0,     0,     0,\n",
       "            0,     0,     0,     0,     0,     0,     0,     0,     0,\n",
       "            0,     0,     0,     0,     0,     0,     0,     0,     0,\n",
       "            0,     0,     0,     0,     0,     0,     0,     0,     0,\n",
       "            0,     0,     0,     0,     0,     0,     0,     0,     0,\n",
       "            0,     0,     0,     0,     0,     0,     0,     0,     0,\n",
       "            0,     0,     0,     0,     0,     0,     0,     0,     0,\n",
       "            0,     0,     0,     0,     0,     0,     0, 32418, 23210,\n",
       "        51409, 10157, 62792,  4366,  6196, 62279, 22284,  3567, 14579,\n",
       "        57727, 40373, 10345, 19118, 67377,  5529, 44857, 23613, 33222,\n",
       "        20588],\n",
       "       [55815, 36174,  3567, 40466, 30808, 18093, 19529, 27735, 49851,\n",
       "        35912, 10157, 27195, 35912, 61630, 66074, 22284,  3567, 47267,\n",
       "        67377, 45065, 44857, 36174, 39211, 37668, 30808, 18093, 18648,\n",
       "        32418,  3567, 10157, 36816, 47267, 27768, 37782, 23118, 67377,\n",
       "        64962, 72926, 36174, 20588, 14595, 48151, 66074, 58176, 50704,\n",
       "        37727, 23613, 36174, 38515, 48542, 42789, 23118, 10157, 29024,\n",
       "        67377, 30808, 63136, 47119, 22284, 72983, 55255, 17379, 16046,\n",
       "        23613, 14871, 16615, 38575, 67377, 15887, 67703, 23613,  9305,\n",
       "         6642, 38664, 41502, 23210, 47267, 67377, 30808, 60698, 24591,\n",
       "        18648, 66074, 23210, 66065, 66341, 10157, 11001, 38575, 67377,\n",
       "        23451, 67377,  5529, 11627, 59365, 10157, 20565, 10839, 67377,\n",
       "        35436]])"
      ]
     },
     "execution_count": 12,
     "metadata": {},
     "output_type": "execute_result"
    }
   ],
   "source": [
    "features[:10,:100]"
   ]
  },
  {
   "cell_type": "markdown",
   "metadata": {},
   "source": [
    "## Training, Validation, Test\n",
    "\n"
   ]
  },
  {
   "cell_type": "markdown",
   "metadata": {},
   "source": [
    "With our data in nice shape, we'll split it into training, validation, and test sets.\n",
    "\n",
    "> **Exercise:** Create the training, validation, and test sets here. You'll need to create sets for the features and the labels, `train_x` and `train_y` for example. Define a split fraction, `split_frac` as the fraction of data to keep in the training set. Usually this is set to 0.8 or 0.9. The rest of the data will be split in half to create the validation and testing data."
   ]
  },
  {
   "cell_type": "code",
   "execution_count": 13,
   "metadata": {},
   "outputs": [
    {
     "name": "stdout",
     "output_type": "stream",
     "text": [
      "\t\t\tFeature Shapes:\n",
      "Train set: \t\t(20000, 200) \n",
      "Validation set: \t(2500, 200) \n",
      "Test set: \t\t(2500, 200)\n"
     ]
    }
   ],
   "source": [
    "split_frac = 0.8\n",
    "split_index = int(0.8 * len(features))\n",
    "train_x, val_x = features[:split_index], features[split_index:]\n",
    "train_y, val_y = labels[:split_index], labels[split_index:]\n",
    "\n",
    "val_split_index = int(len(val_x) * 0.5)\n",
    "val_x, test_x = val_x[:val_split_index], val_x[val_split_index:]\n",
    "val_y, test_y = val_y[:val_split_index], val_y[val_split_index:]\n",
    "\n",
    "print(\"\\t\\t\\tFeature Shapes:\")\n",
    "print(\"Train set: \\t\\t{}\".format(train_x.shape), \n",
    "      \"\\nValidation set: \\t{}\".format(val_x.shape),\n",
    "      \"\\nTest set: \\t\\t{}\".format(test_x.shape))"
   ]
  },
  {
   "cell_type": "markdown",
   "metadata": {},
   "source": [
    "With train, validation, and text fractions of 0.8, 0.1, 0.1, the final shapes should look like:\n",
    "```\n",
    "                    Feature Shapes:\n",
    "Train set: \t\t (20000, 200) \n",
    "Validation set: \t(2500, 200) \n",
    "Test set: \t\t  (2500, 200)\n",
    "```"
   ]
  },
  {
   "cell_type": "markdown",
   "metadata": {},
   "source": [
    "## Build the graph\n",
    "\n",
    "Here, we'll build the graph. First up, defining the hyperparameters.\n",
    "\n",
    "* `lstm_size`: Number of units in the hidden layers in the LSTM cells. Usually larger is better performance wise. Common values are 128, 256, 512, etc.\n",
    "* `lstm_layers`: Number of LSTM layers in the network. I'd start with 1, then add more if I'm underfitting.\n",
    "* `batch_size`: The number of reviews to feed the network in one training pass. Typically this should be set as high as you can go without running out of memory.\n",
    "* `learning_rate`: Learning rate"
   ]
  },
  {
   "cell_type": "code",
   "execution_count": 14,
   "metadata": {},
   "outputs": [],
   "source": [
    "lstm_size = 256\n",
    "lstm_layers = 1\n",
    "batch_size = 500\n",
    "learning_rate = 0.001"
   ]
  },
  {
   "cell_type": "markdown",
   "metadata": {},
   "source": [
    "For the network itself, we'll be passing in our 200 element long review vectors. Each batch will be `batch_size` vectors. We'll also be using dropout on the LSTM layer, so we'll make a placeholder for the keep probability."
   ]
  },
  {
   "cell_type": "markdown",
   "metadata": {},
   "source": [
    "> **Exercise:** Create the `inputs_`, `labels_`, and drop out `keep_prob` placeholders using `tf.placeholder`. `labels_` needs to be two-dimensional to work with some functions later.  Since `keep_prob` is a scalar (a 0-dimensional tensor), you shouldn't provide a size to `tf.placeholder`."
   ]
  },
  {
   "cell_type": "code",
   "execution_count": 15,
   "metadata": {},
   "outputs": [],
   "source": [
    "n_words = len(vocab_to_int) + 1 # Adding 1 because we use 0's for padding, dictionary started at 1\n",
    "\n",
    "# Create the graph object\n",
    "graph = tf.Graph()\n",
    "# Add nodes to the graph\n",
    "with graph.as_default():\n",
    "    inputs_ = tf.placeholder(tf.int32, [None, None], name='inputs')\n",
    "    labels_ = tf.placeholder(tf.int32, [None, None], name='labels')\n",
    "    keep_prob = tf.placeholder(tf.float32, name='keep_prob')"
   ]
  },
  {
   "cell_type": "markdown",
   "metadata": {},
   "source": [
    "### Embedding\n",
    "\n",
    "Now we'll add an embedding layer. We need to do this because there are 74000 words in our vocabulary. It is massively inefficient to one-hot encode our classes here. You should remember dealing with this problem from the word2vec lesson. Instead of one-hot encoding, we can have an embedding layer and use that layer as a lookup table. You could train an embedding layer using word2vec, then load it here. But, it's fine to just make a new layer and let the network learn the weights.\n",
    "\n",
    "> **Exercise:** Create the embedding lookup matrix as a `tf.Variable`. Use that embedding matrix to get the embedded vectors to pass to the LSTM cell with [`tf.nn.embedding_lookup`](https://www.tensorflow.org/api_docs/python/tf/nn/embedding_lookup). This function takes the embedding matrix and an input tensor, such as the review vectors. Then, it'll return another tensor with the embedded vectors. So, if the embedding layer has 200 units, the function will return a tensor with size [batch_size, 200].\n",
    "\n"
   ]
  },
  {
   "cell_type": "code",
   "execution_count": 16,
   "metadata": {},
   "outputs": [],
   "source": [
    "# Size of the embedding vectors (number of units in the embedding layer)\n",
    "embed_size = 300 \n",
    "\n",
    "with graph.as_default():\n",
    "    embedding = tf.Variable(tf.random_uniform((n_words, embed_size), -1, 1))\n",
    "    embed = tf.nn.embedding_lookup(embedding, inputs_)"
   ]
  },
  {
   "cell_type": "markdown",
   "metadata": {},
   "source": [
    "### LSTM cell\n",
    "\n",
    "<img src=\"assets/network_diagram.png\" width=400px>\n",
    "\n",
    "Next, we'll create our LSTM cells to use in the recurrent network ([TensorFlow documentation](https://www.tensorflow.org/api_docs/python/tf/contrib/rnn)). Here we are just defining what the cells look like. This isn't actually building the graph, just defining the type of cells we want in our graph.\n",
    "\n",
    "To create a basic LSTM cell for the graph, you'll want to use `tf.contrib.rnn.BasicLSTMCell`. Looking at the function documentation:\n",
    "\n",
    "```\n",
    "tf.contrib.rnn.BasicLSTMCell(num_units, forget_bias=1.0, input_size=None, state_is_tuple=True, activation=<function tanh at 0x109f1ef28>)\n",
    "```\n",
    "\n",
    "you can see it takes a parameter called `num_units`, the number of units in the cell, called `lstm_size` in this code. So then, you can write something like \n",
    "\n",
    "```\n",
    "lstm = tf.contrib.rnn.BasicLSTMCell(num_units)\n",
    "```\n",
    "\n",
    "to create an LSTM cell with `num_units`. Next, you can add dropout to the cell with `tf.contrib.rnn.DropoutWrapper`. This just wraps the cell in another cell, but with dropout added to the inputs and/or outputs. It's a really convenient way to make your network better with almost no effort! So you'd do something like\n",
    "\n",
    "```\n",
    "drop = tf.contrib.rnn.DropoutWrapper(cell, output_keep_prob=keep_prob)\n",
    "```\n",
    "\n",
    "Most of the time, your network will have better performance with more layers. That's sort of the magic of deep learning, adding more layers allows the network to learn really complex relationships. Again, there is a simple way to create multiple layers of LSTM cells with `tf.contrib.rnn.MultiRNNCell`:\n",
    "\n",
    "```\n",
    "cell = tf.contrib.rnn.MultiRNNCell([drop] * lstm_layers)\n",
    "```\n",
    "\n",
    "Here, `[drop] * lstm_layers` creates a list of cells (`drop`) that is `lstm_layers` long. The `MultiRNNCell` wrapper builds this into multiple layers of RNN cells, one for each cell in the list.\n",
    "\n",
    "So the final cell you're using in the network is actually multiple (or just one) LSTM cells with dropout. But it all works the same from an achitectural viewpoint, just a more complicated graph in the cell.\n",
    "\n",
    "> **Exercise:** Below, use `tf.contrib.rnn.BasicLSTMCell` to create an LSTM cell. Then, add drop out to it with `tf.contrib.rnn.DropoutWrapper`. Finally, create multiple LSTM layers with `tf.contrib.rnn.MultiRNNCell`.\n",
    "\n",
    "Here is [a tutorial on building RNNs](https://www.tensorflow.org/tutorials/recurrent) that will help you out.\n"
   ]
  },
  {
   "cell_type": "code",
   "execution_count": 17,
   "metadata": {},
   "outputs": [],
   "source": [
    "with graph.as_default():\n",
    "    # Your basic LSTM cell\n",
    "    lstm = tf.contrib.rnn.BasicLSTMCell(lstm_size)\n",
    "    \n",
    "    # Add dropout to the cell\n",
    "    drop = tf.contrib.rnn.DropoutWrapper(lstm, output_keep_prob=keep_prob)\n",
    "    \n",
    "    # Stack up multiple LSTM layers, for deep learning\n",
    "    cell = tf.contrib.rnn.MultiRNNCell([drop] * lstm_layers)\n",
    "    \n",
    "    # Getting an initial state of all zeros\n",
    "    initial_state = cell.zero_state(batch_size, tf.float32)"
   ]
  },
  {
   "cell_type": "markdown",
   "metadata": {},
   "source": [
    "### RNN forward pass\n",
    "\n",
    "<img src=\"assets/network_diagram.png\" width=400px>\n",
    "\n",
    "Now we need to actually run the data through the RNN nodes. You can use [`tf.nn.dynamic_rnn`](https://www.tensorflow.org/api_docs/python/tf/nn/dynamic_rnn) to do this. You'd pass in the RNN cell you created (our multiple layered LSTM `cell` for instance), and the inputs to the network.\n",
    "\n",
    "```\n",
    "outputs, final_state = tf.nn.dynamic_rnn(cell, inputs, initial_state=initial_state)\n",
    "```\n",
    "\n",
    "Above I created an initial state, `initial_state`, to pass to the RNN. This is the cell state that is passed between the hidden layers in successive time steps. `tf.nn.dynamic_rnn` takes care of most of the work for us. We pass in our cell and the input to the cell, then it does the unrolling and everything else for us. It returns outputs for each time step and the final_state of the hidden layer.\n",
    "\n",
    "> **Exercise:** Use `tf.nn.dynamic_rnn` to add the forward pass through the RNN. Remember that we're actually passing in vectors from the embedding layer, `embed`.\n",
    "\n"
   ]
  },
  {
   "cell_type": "code",
   "execution_count": 18,
   "metadata": {},
   "outputs": [],
   "source": [
    "with graph.as_default():\n",
    "    outputs, final_state = tf.nn.dynamic_rnn(cell, embed, initial_state=initial_state)"
   ]
  },
  {
   "cell_type": "markdown",
   "metadata": {},
   "source": [
    "### Output\n",
    "\n",
    "We only care about the final output, we'll be using that as our sentiment prediction. So we need to grab the last output with `outputs[:, -1]`, the calculate the cost from that and `labels_`."
   ]
  },
  {
   "cell_type": "code",
   "execution_count": 19,
   "metadata": {},
   "outputs": [],
   "source": [
    "with graph.as_default():\n",
    "    predictions = tf.contrib.layers.fully_connected(outputs[:, -1], 1, activation_fn=tf.sigmoid)\n",
    "    cost = tf.losses.mean_squared_error(labels_, predictions)\n",
    "    \n",
    "    optimizer = tf.train.AdamOptimizer(learning_rate).minimize(cost)"
   ]
  },
  {
   "cell_type": "markdown",
   "metadata": {},
   "source": [
    "### Validation accuracy\n",
    "\n",
    "Here we can add a few nodes to calculate the accuracy which we'll use in the validation pass."
   ]
  },
  {
   "cell_type": "code",
   "execution_count": 20,
   "metadata": {},
   "outputs": [],
   "source": [
    "with graph.as_default():\n",
    "    correct_pred = tf.equal(tf.cast(tf.round(predictions), tf.int32), labels_)\n",
    "    accuracy = tf.reduce_mean(tf.cast(correct_pred, tf.float32))"
   ]
  },
  {
   "cell_type": "markdown",
   "metadata": {},
   "source": [
    "### Batching\n",
    "\n",
    "This is a simple function for returning batches from our data. First it removes data such that we only have full batches. Then it iterates through the `x` and `y` arrays and returns slices out of those arrays with size `[batch_size]`."
   ]
  },
  {
   "cell_type": "code",
   "execution_count": 21,
   "metadata": {},
   "outputs": [],
   "source": [
    "def get_batches(x, y, batch_size=100):\n",
    "    \n",
    "    n_batches = len(x)//batch_size\n",
    "    x, y = x[:n_batches*batch_size], y[:n_batches*batch_size]\n",
    "    for ii in range(0, len(x), batch_size):\n",
    "        yield x[ii:ii+batch_size], y[ii:ii+batch_size]"
   ]
  },
  {
   "cell_type": "markdown",
   "metadata": {},
   "source": [
    "## Training\n",
    "\n",
    "Below is the typical training code. If you want to do this yourself, feel free to delete all this code and implement it yourself. Before you run this, make sure the `checkpoints` directory exists."
   ]
  },
  {
   "cell_type": "code",
   "execution_count": 22,
   "metadata": {},
   "outputs": [
    {
     "name": "stdout",
     "output_type": "stream",
     "text": [
      "Epoch: 0/10 Iteration: 5 Train loss: 0.239\n",
      "Epoch: 0/10 Iteration: 10 Train loss: 0.236\n",
      "Epoch: 0/10 Iteration: 15 Train loss: 0.215\n",
      "Epoch: 0/10 Iteration: 20 Train loss: 0.202\n",
      "Epoch: 0/10 Iteration: 25 Train loss: 0.215\n",
      "Val acc: 0.678\n",
      "Epoch: 0/10 Iteration: 30 Train loss: 0.185\n",
      "Epoch: 0/10 Iteration: 35 Train loss: 0.181\n",
      "Epoch: 0/10 Iteration: 40 Train loss: 0.163\n",
      "Epoch: 1/10 Iteration: 45 Train loss: 0.179\n",
      "Epoch: 1/10 Iteration: 50 Train loss: 0.171\n",
      "Val acc: 0.755\n",
      "Epoch: 1/10 Iteration: 55 Train loss: 0.207\n",
      "Epoch: 1/10 Iteration: 60 Train loss: 0.179\n",
      "Epoch: 1/10 Iteration: 65 Train loss: 0.208\n",
      "Epoch: 1/10 Iteration: 70 Train loss: 0.193\n",
      "Epoch: 1/10 Iteration: 75 Train loss: 0.206\n",
      "Val acc: 0.668\n",
      "Epoch: 1/10 Iteration: 80 Train loss: 0.227\n",
      "Epoch: 2/10 Iteration: 85 Train loss: 0.175\n",
      "Epoch: 2/10 Iteration: 90 Train loss: 0.166\n",
      "Epoch: 2/10 Iteration: 95 Train loss: 0.155\n",
      "Epoch: 2/10 Iteration: 100 Train loss: 0.126\n",
      "Val acc: 0.808\n",
      "Epoch: 2/10 Iteration: 105 Train loss: 0.127\n",
      "Epoch: 2/10 Iteration: 110 Train loss: 0.132\n",
      "Epoch: 2/10 Iteration: 115 Train loss: 0.150\n",
      "Epoch: 2/10 Iteration: 120 Train loss: 0.125\n",
      "Epoch: 3/10 Iteration: 125 Train loss: 0.119\n",
      "Val acc: 0.776\n",
      "Epoch: 3/10 Iteration: 130 Train loss: 0.130\n",
      "Epoch: 3/10 Iteration: 135 Train loss: 0.111\n",
      "Epoch: 3/10 Iteration: 140 Train loss: 0.106\n",
      "Epoch: 3/10 Iteration: 145 Train loss: 0.110\n",
      "Epoch: 3/10 Iteration: 150 Train loss: 0.098\n",
      "Val acc: 0.813\n",
      "Epoch: 3/10 Iteration: 155 Train loss: 0.094\n",
      "Epoch: 3/10 Iteration: 160 Train loss: 0.096\n",
      "Epoch: 4/10 Iteration: 165 Train loss: 0.105\n",
      "Epoch: 4/10 Iteration: 170 Train loss: 0.130\n",
      "Epoch: 4/10 Iteration: 175 Train loss: 0.082\n",
      "Val acc: 0.838\n",
      "Epoch: 4/10 Iteration: 180 Train loss: 0.111\n",
      "Epoch: 4/10 Iteration: 185 Train loss: 0.357\n",
      "Epoch: 4/10 Iteration: 190 Train loss: 0.214\n",
      "Epoch: 4/10 Iteration: 195 Train loss: 0.184\n",
      "Epoch: 4/10 Iteration: 200 Train loss: 0.176\n",
      "Val acc: 0.722\n",
      "Epoch: 5/10 Iteration: 205 Train loss: 0.118\n",
      "Epoch: 5/10 Iteration: 210 Train loss: 0.116\n",
      "Epoch: 5/10 Iteration: 215 Train loss: 0.128\n",
      "Epoch: 5/10 Iteration: 220 Train loss: 0.134\n",
      "Epoch: 5/10 Iteration: 225 Train loss: 0.353\n",
      "Val acc: 0.581\n",
      "Epoch: 5/10 Iteration: 230 Train loss: 0.224\n",
      "Epoch: 5/10 Iteration: 235 Train loss: 0.174\n",
      "Epoch: 5/10 Iteration: 240 Train loss: 0.193\n",
      "Epoch: 6/10 Iteration: 245 Train loss: 0.164\n",
      "Epoch: 6/10 Iteration: 250 Train loss: 0.149\n",
      "Val acc: 0.710\n",
      "Epoch: 6/10 Iteration: 255 Train loss: 0.149\n",
      "Epoch: 6/10 Iteration: 260 Train loss: 0.152\n",
      "Epoch: 6/10 Iteration: 265 Train loss: 0.144\n",
      "Epoch: 6/10 Iteration: 270 Train loss: 0.132\n",
      "Epoch: 6/10 Iteration: 275 Train loss: 0.098\n",
      "Val acc: 0.751\n",
      "Epoch: 6/10 Iteration: 280 Train loss: 0.119\n",
      "Epoch: 7/10 Iteration: 285 Train loss: 0.097\n",
      "Epoch: 7/10 Iteration: 290 Train loss: 0.109\n",
      "Epoch: 7/10 Iteration: 295 Train loss: 0.092\n",
      "Epoch: 7/10 Iteration: 300 Train loss: 0.105\n",
      "Val acc: 0.795\n",
      "Epoch: 7/10 Iteration: 305 Train loss: 0.088\n",
      "Epoch: 7/10 Iteration: 310 Train loss: 0.088\n",
      "Epoch: 7/10 Iteration: 315 Train loss: 0.067\n",
      "Epoch: 7/10 Iteration: 320 Train loss: 0.060\n",
      "Epoch: 8/10 Iteration: 325 Train loss: 0.057\n",
      "Val acc: 0.837\n",
      "Epoch: 8/10 Iteration: 330 Train loss: 0.052\n",
      "Epoch: 8/10 Iteration: 335 Train loss: 0.058\n",
      "Epoch: 8/10 Iteration: 340 Train loss: 0.069\n",
      "Epoch: 8/10 Iteration: 345 Train loss: 0.067\n",
      "Epoch: 8/10 Iteration: 350 Train loss: 0.061\n",
      "Val acc: 0.771\n",
      "Epoch: 8/10 Iteration: 355 Train loss: 0.053\n",
      "Epoch: 8/10 Iteration: 360 Train loss: 0.060\n",
      "Epoch: 9/10 Iteration: 365 Train loss: 0.062\n",
      "Epoch: 9/10 Iteration: 370 Train loss: 0.048\n",
      "Epoch: 9/10 Iteration: 375 Train loss: 0.056\n",
      "Val acc: 0.822\n",
      "Epoch: 9/10 Iteration: 380 Train loss: 0.138\n",
      "Epoch: 9/10 Iteration: 385 Train loss: 0.138\n",
      "Epoch: 9/10 Iteration: 390 Train loss: 0.085\n",
      "Epoch: 9/10 Iteration: 395 Train loss: 0.112\n",
      "Epoch: 9/10 Iteration: 400 Train loss: 0.136\n",
      "Val acc: 0.776\n"
     ]
    }
   ],
   "source": [
    "epochs = 10\n",
    "\n",
    "with graph.as_default():\n",
    "    saver = tf.train.Saver()\n",
    "\n",
    "with tf.Session(graph=graph) as sess:\n",
    "    sess.run(tf.global_variables_initializer())\n",
    "    iteration = 1\n",
    "    for e in range(epochs):\n",
    "        state = sess.run(initial_state)\n",
    "        \n",
    "        for ii, (x, y) in enumerate(get_batches(train_x, train_y, batch_size), 1):\n",
    "            feed = {inputs_: x,\n",
    "                    labels_: y[:, None],\n",
    "                    keep_prob: 0.5,\n",
    "                    initial_state: state}\n",
    "            loss, state, _ = sess.run([cost, final_state, optimizer], feed_dict=feed)\n",
    "            \n",
    "            if iteration%5==0:\n",
    "                print(\"Epoch: {}/{}\".format(e, epochs),\n",
    "                      \"Iteration: {}\".format(iteration),\n",
    "                      \"Train loss: {:.3f}\".format(loss))\n",
    "\n",
    "            if iteration%25==0:\n",
    "                val_acc = []\n",
    "                val_state = sess.run(cell.zero_state(batch_size, tf.float32))\n",
    "                for x, y in get_batches(val_x, val_y, batch_size):\n",
    "                    feed = {inputs_: x,\n",
    "                            labels_: y[:, None],\n",
    "                            keep_prob: 1,\n",
    "                            initial_state: val_state}\n",
    "                    batch_acc, val_state = sess.run([accuracy, final_state], feed_dict=feed)\n",
    "                    val_acc.append(batch_acc)\n",
    "                print(\"Val acc: {:.3f}\".format(np.mean(val_acc)))\n",
    "            iteration +=1\n",
    "    saver.save(sess, \"checkpoints/sentiment.ckpt\")"
   ]
  },
  {
   "cell_type": "markdown",
   "metadata": {},
   "source": [
    "## Testing"
   ]
  },
  {
   "cell_type": "code",
   "execution_count": 23,
   "metadata": {},
   "outputs": [
    {
     "name": "stdout",
     "output_type": "stream",
     "text": [
      "Test accuracy: 0.783\n"
     ]
    }
   ],
   "source": [
    "test_acc = []\n",
    "with tf.Session(graph=graph) as sess:\n",
    "    saver.restore(sess, tf.train.latest_checkpoint('checkpoints'))\n",
    "    test_state = sess.run(cell.zero_state(batch_size, tf.float32))\n",
    "    for ii, (x, y) in enumerate(get_batches(test_x, test_y, batch_size), 1):\n",
    "        feed = {inputs_: x,\n",
    "                labels_: y[:, None],\n",
    "                keep_prob: 1,\n",
    "                initial_state: test_state}\n",
    "        batch_acc, test_state = sess.run([accuracy, final_state], feed_dict=feed)\n",
    "        test_acc.append(batch_acc)\n",
    "    print(\"Test accuracy: {:.3f}\".format(np.mean(test_acc)))"
   ]
  },
  {
   "cell_type": "code",
   "execution_count": null,
   "metadata": {},
   "outputs": [],
   "source": []
  }
 ],
 "metadata": {
  "kernelspec": {
   "display_name": "Python 3",
   "language": "python",
   "name": "python3"
  },
  "language_info": {
   "codemirror_mode": {
    "name": "ipython",
    "version": 3
   },
   "file_extension": ".py",
   "mimetype": "text/x-python",
   "name": "python",
   "nbconvert_exporter": "python",
   "pygments_lexer": "ipython3",
   "version": "3.5.2"
  }
 },
 "nbformat": 4,
 "nbformat_minor": 2
}
